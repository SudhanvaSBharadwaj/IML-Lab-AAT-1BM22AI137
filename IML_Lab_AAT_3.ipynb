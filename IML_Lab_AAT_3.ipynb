{
  "nbformat": 4,
  "nbformat_minor": 0,
  "metadata": {
    "colab": {
      "provenance": []
    },
    "kernelspec": {
      "name": "python3",
      "display_name": "Python 3"
    },
    "language_info": {
      "name": "python"
    }
  },
  "cells": [
    {
      "cell_type": "code",
      "execution_count": null,
      "metadata": {
        "id": "1COMJgAcxvda"
      },
      "outputs": [],
      "source": [
        "import sys\n",
        "\n",
        "inp = int(float(sys.stdin.readline())*100);\n",
        "if inp < 400:\n",
        "    print(inp*2/100);\n",
        "else:\n",
        "    print(8.00);"
      ]
    }
  ]
}