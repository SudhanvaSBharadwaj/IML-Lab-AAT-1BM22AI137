{
  "nbformat": 4,
  "nbformat_minor": 0,
  "metadata": {
    "colab": {
      "provenance": []
    },
    "kernelspec": {
      "name": "python3",
      "display_name": "Python 3"
    },
    "language_info": {
      "name": "python"
    }
  },
  "cells": [
    {
      "cell_type": "code",
      "execution_count": null,
      "metadata": {
        "id": "OX-VTptTwjmt"
      },
      "outputs": [],
      "source": [
        "def calc_wma(k, prices, i):\n",
        "    weights = [1, 2, 3, 4, 5]\n",
        "    wma_sum = sum(prices[i])\n",
        "    wma = sum(w * p for w, p in zip(weights, prices[i])) / wma_sum\n",
        "    return wma\n",
        "\n",
        "def print_transactions(m, k, d, name, owned, prices):\n",
        "    trx_count = 0\n",
        "    stock_name = []\n",
        "    stock_num = []\n",
        "    trx = []\n",
        "    m1 = 0\n",
        "    f = []\n",
        "    for i in range(k):\n",
        "        f.append(float(prices[i][4]) - calc_wma(k, prices, i))\n",
        "    minF = min(f)\n",
        "    for i in range(k):\n",
        "        if owned[i] > 0 and float(prices[i][4]) > calc_wma(k, prices, i):\n",
        "            trx_count += 1\n",
        "            stock_name.append(str(name[i]))\n",
        "            trx.append(\"SELL\")\n",
        "            stock_num.append(owned[i])\n",
        "            m1 += owned[i] * float(prices[i][4])\n",
        "            owned[i] = owned[0] - stock_num[trx_count - 1]\n",
        "        elif float(m) > 0 and int(float(m) / float(prices[i][4])) > 0 and f[i] == minF:\n",
        "            trx_count += 1\n",
        "            stock_num.append(int(m / float(prices[i][4])))\n",
        "            stock_name.append(str(name[i]))\n",
        "            trx.append(\"BUY\")\n",
        "            owned[i] = stock_num[trx_count - 1]\n",
        "            m -= stock_num[trx_count - 1] * float(prices[i][4])\n",
        "    m += m1\n",
        "    m1 = 0\n",
        "    if trx_count > 0:\n",
        "        print(trx_count)\n",
        "        for i in range(trx_count):\n",
        "            print(stock_name[i], trx[i], stock_num[i])\n",
        "    else:\n",
        "        print(trx_count)\n",
        "\n",
        "import sys\n",
        "input = sys.stdin.read().strip().split('\\n')\n",
        "\n",
        "first_line = input[0].split()\n",
        "m = float(first_line[0])\n",
        "k = int(first_line[1])\n",
        "d = int(first_line[2])\n",
        "\n",
        "name = []\n",
        "owned = []\n",
        "prices = []\n",
        "\n",
        "for i in range(k):\n",
        "    stock_info = input[i + 1].split()\n",
        "    name.append(stock_info[0])\n",
        "    owned.append(int(stock_info[1]))\n",
        "    prices.append(list(map(float, stock_info[2:])))\n",
        "\n",
        "print_transactions(m, k, d, name, owned, prices)"
      ]
    }
  ]
}