{
  "nbformat": 4,
  "nbformat_minor": 0,
  "metadata": {
    "colab": {
      "provenance": []
    },
    "kernelspec": {
      "name": "python3",
      "display_name": "Python 3"
    },
    "language_info": {
      "name": "python"
    }
  },
  "cells": [
    {
      "cell_type": "code",
      "execution_count": null,
      "metadata": {
        "id": "eI4lVDByztlh"
      },
      "outputs": [],
      "source": [
        "import json\n",
        "import numpy as np\n",
        "from sklearn.linear_model import SGDClassifier\n",
        "from sklearn.feature_extraction.text import TfidfVectorizer\n",
        "\n",
        "f = open('training.json','r')\n",
        "N = int(f.readline())\n",
        "y_train=[]\n",
        "train=[]\n",
        "topic_list=[]\n",
        "for line in f:\n",
        "    j = json.loads(line)\n",
        "    topic = (j['topic'])\n",
        "    if topic in topic_list:\n",
        "        topic_index = topic_list.index(topic)\n",
        "    else:\n",
        "        topic_list.append(topic)\n",
        "        topic_index = topic_list.index(topic)\n",
        "    y_train.append(topic_index)\n",
        "    y_train.append(topic_index)\n",
        "    train.append(j['question'])\n",
        "    train.append(j['excerpt'])\n",
        "\n",
        "test=[]\n",
        "N = int(input())\n",
        "for i in range(N):\n",
        "    j = json.loads(input())\n",
        "    test.append(j['question']+ \" \" + j['excerpt'])\n",
        "\n",
        "\n",
        "v = TfidfVectorizer(sublinear_tf=True,analyzer = 'word', max_df = 0.1, ngram_range=(1,2),stop_words=\"english\")\n",
        "X_train = v.fit_transform(train)\n",
        "X_test = v.transform(test)\n",
        "\n",
        "clf_hinge = SGDClassifier(loss='hinge', alpha=.00002, max_iter=30, penalty=\"l2\").fit(X_train, y_train)\n",
        "predictions = clf_hinge.predict(X_test)\n",
        "\n",
        "for i in predictions:\n",
        "    print(topic_list[i])"
      ]
    }
  ]
}